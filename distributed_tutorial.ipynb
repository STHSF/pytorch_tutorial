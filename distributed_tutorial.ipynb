{
 "cells": [
  {
   "cell_type": "code",
   "execution_count": 1,
   "metadata": {},
   "outputs": [],
   "source": [
    "# PyTorch分布式测试\n",
    "import os\n",
    "import torch\n",
    "import torch.distributed as dist\n",
    "from torch.multiprocessing import Process"
   ]
  },
  {
   "cell_type": "code",
   "execution_count": 2,
   "metadata": {},
   "outputs": [],
   "source": [
    "def run(rank, size):\n",
    "    tensor = torch.zeros(1)\n",
    "    req = None\n",
    "    if rank == 0:\n",
    "        tensor += 1\n",
    "        req = dist.isend(tensor=tensor, dst=1)\n",
    "        print('Rank 0 started sending')\n",
    "    else:\n",
    "        req = dist.irecv(tensor=tensor, src=0)\n",
    "        print('Rank 1 started receving')\n",
    "    req.wait()\n",
    "    print('Rank', rank, 'has data', tensor[0])\n",
    "    pass\n"
   ]
  },
  {
   "cell_type": "code",
   "execution_count": 3,
   "metadata": {},
   "outputs": [],
   "source": [
    "def init_process(rank, size, fn, backend='tcp'):\n",
    "    os.environ['MASTER_ADDR'] = '127.0.0.1'\n",
    "    os.environ['MASTER_PORT'] = '29500'\n",
    "    dist.init_process_group(backend, rank=rank, world_size=size)\n",
    "    fn(rank, size)\n",
    "    "
   ]
  },
  {
   "cell_type": "code",
   "execution_count": 4,
   "metadata": {},
   "outputs": [
    {
     "name": "stderr",
     "output_type": "stream",
     "text": [
      "Process Process-2:\n",
      "Process Process-1:\n",
      "Traceback (most recent call last):\n",
      "Traceback (most recent call last):\n",
      "  File \"/usr/lib/python3.6/multiprocessing/process.py\", line 258, in _bootstrap\n",
      "    self.run()\n",
      "  File \"/usr/lib/python3.6/multiprocessing/process.py\", line 258, in _bootstrap\n",
      "    self.run()\n",
      "  File \"/usr/lib/python3.6/multiprocessing/process.py\", line 93, in run\n",
      "    self._target(*self._args, **self._kwargs)\n",
      "  File \"/usr/lib/python3.6/multiprocessing/process.py\", line 93, in run\n",
      "    self._target(*self._args, **self._kwargs)\n",
      "  File \"<ipython-input-3-882aef461e4b>\", line 4, in init_process\n",
      "    dist.init_process_group(backend, rank=rank, world_size=size)\n",
      "  File \"/home/jerry/workshop/virtualenv/alpha-mind/lib/python3.6/site-packages/torch/distributed/distributed_c10d.py\", line 384, in init_process_group\n",
      "    backend = Backend(backend)\n",
      "  File \"<ipython-input-3-882aef461e4b>\", line 4, in init_process\n",
      "    dist.init_process_group(backend, rank=rank, world_size=size)\n",
      "  File \"/home/jerry/workshop/virtualenv/alpha-mind/lib/python3.6/site-packages/torch/distributed/distributed_c10d.py\", line 71, in __new__\n",
      "    raise ValueError(\"TCP backend has been deprecated. Please use \"\n",
      "ValueError: TCP backend has been deprecated. Please use Gloo or MPI backend for collective operations on CPU tensors.\n",
      "  File \"/home/jerry/workshop/virtualenv/alpha-mind/lib/python3.6/site-packages/torch/distributed/distributed_c10d.py\", line 384, in init_process_group\n",
      "    backend = Backend(backend)\n",
      "  File \"/home/jerry/workshop/virtualenv/alpha-mind/lib/python3.6/site-packages/torch/distributed/distributed_c10d.py\", line 71, in __new__\n",
      "    raise ValueError(\"TCP backend has been deprecated. Please use \"\n",
      "ValueError: TCP backend has been deprecated. Please use Gloo or MPI backend for collective operations on CPU tensors.\n"
     ]
    }
   ],
   "source": [
    "if __name__==\"__main__\":\n",
    "    size = 2\n",
    "    processes = []\n",
    "    for rank in range(size):\n",
    "        p = Process(target=init_process, args=(rank, size, run))\n",
    "        p.start()\n",
    "        processes.append(p)\n",
    "\n",
    "    for p in processes:\n",
    "        p.join()"
   ]
  },
  {
   "cell_type": "code",
   "execution_count": null,
   "metadata": {},
   "outputs": [],
   "source": []
  }
 ],
 "metadata": {
  "kernelspec": {
   "display_name": "Python 3",
   "language": "python",
   "name": "python3"
  },
  "language_info": {
   "codemirror_mode": {
    "name": "ipython",
    "version": 3
   },
   "file_extension": ".py",
   "mimetype": "text/x-python",
   "name": "python",
   "nbconvert_exporter": "python",
   "pygments_lexer": "ipython3",
   "version": "3.6.7"
  },
  "latex_envs": {
   "LaTeX_envs_menu_present": true,
   "autoclose": false,
   "autocomplete": true,
   "bibliofile": "biblio.bib",
   "cite_by": "apalike",
   "current_citInitial": 1,
   "eqLabelWithNumbers": true,
   "eqNumInitial": 1,
   "hotkeys": {
    "equation": "Ctrl-E",
    "itemize": "Ctrl-I"
   },
   "labels_anchors": false,
   "latex_user_defs": false,
   "report_style_numbering": false,
   "user_envs_cfg": false
  }
 },
 "nbformat": 4,
 "nbformat_minor": 2
}
