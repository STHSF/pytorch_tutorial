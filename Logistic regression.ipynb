{
 "cells": [
  {
   "cell_type": "code",
   "execution_count": 1,
   "metadata": {},
   "outputs": [],
   "source": [
    "import torch\n",
    "from torch.autograd import Variable\n",
    "import torch.nn.functional as F"
   ]
  },
  {
   "cell_type": "code",
   "execution_count": 2,
   "metadata": {},
   "outputs": [],
   "source": [
    "# 获取数据的两种方式\n",
    "x_data = Variable(torch.Tensor([[1.0], [2.0], [3.0], [4.0]]))\n",
    "y_data = Variable(torch.Tensor([[0], [0], [1], [1]]))"
   ]
  },
  {
   "cell_type": "code",
   "execution_count": 3,
   "metadata": {},
   "outputs": [],
   "source": [
    "# step1\n",
    "class Model(torch.nn.Module):\n",
    "    def __init__(self, input_size, output_size):\n",
    "        super(Model, self).__init__()\n",
    "        self.linear = torch.nn.Linear(input_size, output_size)  # one in and one out\n",
    " \n",
    "    def forward(self, x):\n",
    "        y_pred = F.sigmoid(self.linear(x))\n",
    "        return y_pred"
   ]
  },
  {
   "cell_type": "code",
   "execution_count": 4,
   "metadata": {},
   "outputs": [],
   "source": [
    "# our model\n",
    "model = Model(1, 1)"
   ]
  },
  {
   "cell_type": "code",
   "execution_count": 5,
   "metadata": {},
   "outputs": [
    {
     "name": "stderr",
     "output_type": "stream",
     "text": [
      "/home/jerry/workshop/virtualenv/alpha-mind/lib/python3.6/site-packages/torch/nn/_reduction.py:46: UserWarning: size_average and reduce args will be deprecated, please use reduction='mean' instead.\n",
      "  warnings.warn(warning.format(ret))\n"
     ]
    }
   ],
   "source": [
    "# step2\n",
    "# Construct our loss function and an Optimizer. The call to model.parameters()\n",
    "# in the SGD constructor will contain the learnable parameters of the two\n",
    "# nn.Linear modules which are members of the model.\n",
    "criterion = torch.nn.BCELoss(size_average=True)\n",
    "optimizer = torch.optim.SGD(model.parameters(), lr=0.01)"
   ]
  },
  {
   "cell_type": "code",
   "execution_count": 6,
   "metadata": {},
   "outputs": [
    {
     "name": "stderr",
     "output_type": "stream",
     "text": [
      "/home/jerry/workshop/virtualenv/alpha-mind/lib/python3.6/site-packages/torch/nn/functional.py:1386: UserWarning: nn.functional.sigmoid is deprecated. Use torch.sigmoid instead.\n",
      "  warnings.warn(\"nn.functional.sigmoid is deprecated. Use torch.sigmoid instead.\")\n"
     ]
    },
    {
     "name": "stdout",
     "output_type": "stream",
     "text": [
      "Epoch [50/1000], Lpss:-103.6385\n",
      "Epoch [100/1000], Lpss:-105.8148\n",
      "Epoch [150/1000], Lpss:-107.7497\n",
      "Epoch [200/1000], Lpss:-113.2984\n",
      "Epoch [250/1000], Lpss:-118.1687\n",
      "Epoch [300/1000], Lpss:-118.1687\n",
      "Epoch [350/1000], Lpss:-118.1687\n",
      "Epoch [400/1000], Lpss:-118.1687\n",
      "Epoch [450/1000], Lpss:-118.1687\n",
      "Epoch [500/1000], Lpss:-118.1687\n",
      "Epoch [550/1000], Lpss:-118.1687\n",
      "Epoch [600/1000], Lpss:-118.1687\n",
      "Epoch [650/1000], Lpss:-118.1687\n",
      "Epoch [700/1000], Lpss:-118.1687\n",
      "Epoch [750/1000], Lpss:-118.1687\n",
      "Epoch [800/1000], Lpss:-118.1687\n",
      "Epoch [850/1000], Lpss:-118.1687\n",
      "Epoch [900/1000], Lpss:-118.1687\n",
      "Epoch [950/1000], Lpss:-118.1687\n",
      "Epoch [1000/1000], Lpss:-118.1687\n"
     ]
    }
   ],
   "source": [
    "# Training loop\n",
    "num_epoches = 1000\n",
    "for epoch in range(num_epoches):\n",
    "    # Forward pass: Compute predicted y by passing x to the model\n",
    "    y_pred = model(x_data)\n",
    " \n",
    "    # compute loss and print loss\n",
    "    loss = criterion(y_pred, y_data)\n",
    "#     print(epoch, loss.data[0])\n",
    " \n",
    "   # Zero gradients ,perform a backward pass,and update weights.\n",
    "    optimizer.zero_grad()\n",
    "    loss.backward()\n",
    "    optimizer.step()\n",
    "    if (epoch+1) % 50 ==0:\n",
    "        print('Epoch [%d/%d], Lpss:%.4f'% (epoch+1, num_epoches, loss.data))\n",
    "\n"
   ]
  },
  {
   "cell_type": "code",
   "execution_count": 7,
   "metadata": {},
   "outputs": [
    {
     "name": "stdout",
     "output_type": "stream",
     "text": [
      "predict 1 hour 1.0 tensor(1, dtype=torch.uint8)\n",
      "predict 1 hour 7.0 tensor(1, dtype=torch.uint8)\n"
     ]
    }
   ],
   "source": [
    "# After training\n",
    "hour_var=Variable(torch.Tensor([[1.0]]))\n",
    "print(\"predict 1 hour\",1.0,model(hour_var).data[0][0]>0.5)\n",
    "hour_var=Variable(torch.Tensor([[7.0]]))\n",
    "print(\"predict 1 hour\",7.0,model(hour_var).data[0][0]>0.5)"
   ]
  }
 ],
 "metadata": {
  "kernelspec": {
   "display_name": "Python 3",
   "language": "python",
   "name": "python3"
  },
  "language_info": {
   "codemirror_mode": {
    "name": "ipython",
    "version": 3
   },
   "file_extension": ".py",
   "mimetype": "text/x-python",
   "name": "python",
   "nbconvert_exporter": "python",
   "pygments_lexer": "ipython3",
   "version": "3.6.7"
  },
  "latex_envs": {
   "LaTeX_envs_menu_present": true,
   "autoclose": false,
   "autocomplete": true,
   "bibliofile": "biblio.bib",
   "cite_by": "apalike",
   "current_citInitial": 1,
   "eqLabelWithNumbers": true,
   "eqNumInitial": 1,
   "hotkeys": {
    "equation": "Ctrl-E",
    "itemize": "Ctrl-I"
   },
   "labels_anchors": false,
   "latex_user_defs": false,
   "report_style_numbering": false,
   "user_envs_cfg": false
  }
 },
 "nbformat": 4,
 "nbformat_minor": 2
}
