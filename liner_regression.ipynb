{
 "cells": [
  {
   "cell_type": "code",
   "execution_count": 1,
   "metadata": {},
   "outputs": [],
   "source": [
    "import torch\n",
    "import torch.nn as nn\n",
    "import numpy as np\n",
    "import matplotlib.pyplot as plt\n",
    "from torch.autograd import Variable"
   ]
  },
  {
   "cell_type": "code",
   "execution_count": 2,
   "metadata": {},
   "outputs": [],
   "source": [
    "input_size = 1\n",
    "output_size = 1\n",
    "learning_rate = 0.001"
   ]
  },
  {
   "cell_type": "code",
   "execution_count": 3,
   "metadata": {},
   "outputs": [
    {
     "data": {
      "image/png": "[encoded data removed]",
      "text/plain": [
       "<Figure size 432x288 with 1 Axes>"
      ]
     },
     "metadata": {
      "needs_background": "light"
     },
     "output_type": "display_data"
    },
    {
     "name": "stdout",
     "output_type": "stream",
     "text": [
      "(9, 1)\n"
     ]
    }
   ],
   "source": [
    "xtrain = np.array([[2.3], [4.4], [3.7], [6.1], [7.3], [2.1], [5.6], [7.7], [8.7]], dtype=np.float32)\n",
    "ytrain = np.array([[3.7], [4.76], [4.0], [7.1], [8.6], [3.5], [5.4], [7.6], [7.9]], dtype=np.float32)\n",
    "\n",
    "plt.figure()\n",
    "plt.scatter(xtrain, ytrain)\n",
    "plt.show()\n",
    "print(np.shape(xtrain))"
   ]
  },
  {
   "cell_type": "code",
   "execution_count": 4,
   "metadata": {},
   "outputs": [],
   "source": [
    "class LinearRegression(nn.Module):\n",
    "    def __init__(self, input_size, output_size):\n",
    "        super(LinearRegression, self).__init__()\n",
    "        self.liner = nn.Linear(input_size, output_size)\n",
    "        \n",
    "    def forward(self, x):\n",
    "        out = self.liner(x)\n",
    "        return out"
   ]
  },
  {
   "cell_type": "code",
   "execution_count": 5,
   "metadata": {},
   "outputs": [],
   "source": [
    "model = LinearRegression(input_size, output_size)\n",
    "criterion = nn.MSELoss()\n",
    "optimizer = torch.optim.SGD(model.parameters(), lr=learning_rate)\n"
   ]
  },
  {
   "cell_type": "code",
   "execution_count": 6,
   "metadata": {},
   "outputs": [
    {
     "name": "stdout",
     "output_type": "stream",
     "text": [
      "Epoch [50/1000], Lpss:1.0268\n",
      "Epoch [100/1000], Lpss:0.9999\n",
      "Epoch [150/1000], Lpss:0.9815\n",
      "Epoch [200/1000], Lpss:0.9636\n",
      "Epoch [250/1000], Lpss:0.9462\n",
      "Epoch [300/1000], Lpss:0.9293\n",
      "Epoch [350/1000], Lpss:0.9129\n",
      "Epoch [400/1000], Lpss:0.8969\n",
      "Epoch [450/1000], Lpss:0.8815\n",
      "Epoch [500/1000], Lpss:0.8664\n",
      "Epoch [550/1000], Lpss:0.8518\n",
      "Epoch [600/1000], Lpss:0.8376\n",
      "Epoch [650/1000], Lpss:0.8238\n",
      "Epoch [700/1000], Lpss:0.8104\n",
      "Epoch [750/1000], Lpss:0.7974\n",
      "Epoch [800/1000], Lpss:0.7848\n",
      "Epoch [850/1000], Lpss:0.7725\n",
      "Epoch [900/1000], Lpss:0.7606\n",
      "Epoch [950/1000], Lpss:0.7490\n",
      "Epoch [1000/1000], Lpss:0.7378\n"
     ]
    }
   ],
   "source": [
    "num_epochs = 1000\n",
    "# 注意, dtype一定要指定, 不然在train的过程中会报错\n",
    "inputs = Variable(torch.from_numpy(xtrain))\n",
    "targets = Variable(torch.from_numpy(ytrain))\n",
    "\n",
    "for epoch in range(num_epochs):\n",
    "    outputs = model(inputs)\n",
    "    optimizer.zero_grad()    \n",
    "    loss = criterion(outputs, targets)\n",
    "    loss.backward()\n",
    "    optimizer.step()\n",
    "    if (epoch+1) % 50 ==0:\n",
    "        print('Epoch [%d/%d], Lpss:%.4f'% (epoch+1, num_epochs, loss.data))"
   ]
  }
 ],
 "metadata": {
  "kernelspec": {
   "display_name": "Python 3",
   "language": "python",
   "name": "python3"
  },
  "language_info": {
   "codemirror_mode": {
    "name": "ipython",
    "version": 3
   },
   "file_extension": ".py",
   "mimetype": "text/x-python",
   "name": "python",
   "nbconvert_exporter": "python",
   "pygments_lexer": "ipython3",
   "version": "3.6.7"
  },
  "latex_envs": {
   "LaTeX_envs_menu_present": true,
   "autoclose": false,
   "autocomplete": true,
   "bibliofile": "biblio.bib",
   "cite_by": "apalike",
   "current_citInitial": 1,
   "eqLabelWithNumbers": true,
   "eqNumInitial": 1,
   "hotkeys": {
    "equation": "Ctrl-E",
    "itemize": "Ctrl-I"
   },
   "labels_anchors": false,
   "latex_user_defs": false,
   "report_style_numbering": false,
   "user_envs_cfg": false
  }
 },
 "nbformat": 4,
 "nbformat_minor": 2
}
