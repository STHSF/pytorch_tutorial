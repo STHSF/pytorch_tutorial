{
 "cells": [
  {
   "cell_type": "code",
   "execution_count": 1,
   "metadata": {
    "pycharm": {
     "is_executing": false
    }
   },
   "outputs": [],
   "source": [
    "import torch.nn as nn\n",
    "import torch.nn.functional as F\n",
    "from torch.autograd import Variable\n",
    "\n",
    "import pandas as pd"
   ]
  },
  {
   "cell_type": "code",
   "execution_count": 2,
   "metadata": {
    "pycharm": {
     "is_executing": false
    }
   },
   "outputs": [
    {
     "traceback": [
      "\u001b[0;31m---------------------------------------------------------------------------\u001b[0m",
      "\u001b[0;31mFileNotFoundError\u001b[0m                         Traceback (most recent call last)",
      "\u001b[0;32m<ipython-input-2-4e253583beee>\u001b[0m in \u001b[0;36m<module>\u001b[0;34m\u001b[0m\n\u001b[1;32m      1\u001b[0m \u001b[0;34m\u001b[0m\u001b[0m\n\u001b[1;32m      2\u001b[0m \u001b[0;31m#loading the data\u001b[0m\u001b[0;34m\u001b[0m\u001b[0;34m\u001b[0m\u001b[0;34m\u001b[0m\u001b[0m\n\u001b[0;32m----> 3\u001b[0;31m \u001b[0mpd\u001b[0m\u001b[0;34m.\u001b[0m\u001b[0mread_csv\u001b[0m\u001b[0;34m(\u001b[0m\u001b[0;34m'data/train.csv'\u001b[0m\u001b[0;34m)\u001b[0m\u001b[0;34m.\u001b[0m\u001b[0mhead\u001b[0m\u001b[0;34m(\u001b[0m\u001b[0;34m)\u001b[0m\u001b[0;34m\u001b[0m\u001b[0;34m\u001b[0m\u001b[0m\n\u001b[0m\u001b[1;32m      4\u001b[0m \u001b[0;34m\u001b[0m\u001b[0m\n\u001b[1;32m      5\u001b[0m \u001b[0;34m\u001b[0m\u001b[0m\n",
      "\u001b[0;32m~/workshop/virtualenv/venv3/lib/python3.7/site-packages/pandas/io/parsers.py\u001b[0m in \u001b[0;36mparser_f\u001b[0;34m(filepath_or_buffer, sep, delimiter, header, names, index_col, usecols, squeeze, prefix, mangle_dupe_cols, dtype, engine, converters, true_values, false_values, skipinitialspace, skiprows, nrows, na_values, keep_default_na, na_filter, verbose, skip_blank_lines, parse_dates, infer_datetime_format, keep_date_col, date_parser, dayfirst, iterator, chunksize, compression, thousands, decimal, lineterminator, quotechar, quoting, escapechar, comment, encoding, dialect, tupleize_cols, error_bad_lines, warn_bad_lines, skipfooter, doublequote, delim_whitespace, low_memory, memory_map, float_precision)\u001b[0m\n\u001b[1;32m    676\u001b[0m                     skip_blank_lines=skip_blank_lines)\n\u001b[1;32m    677\u001b[0m \u001b[0;34m\u001b[0m\u001b[0m\n\u001b[0;32m--> 678\u001b[0;31m         \u001b[0;32mreturn\u001b[0m \u001b[0m_read\u001b[0m\u001b[0;34m(\u001b[0m\u001b[0mfilepath_or_buffer\u001b[0m\u001b[0;34m,\u001b[0m \u001b[0mkwds\u001b[0m\u001b[0;34m)\u001b[0m\u001b[0;34m\u001b[0m\u001b[0;34m\u001b[0m\u001b[0m\n\u001b[0m\u001b[1;32m    679\u001b[0m \u001b[0;34m\u001b[0m\u001b[0m\n\u001b[1;32m    680\u001b[0m     \u001b[0mparser_f\u001b[0m\u001b[0;34m.\u001b[0m\u001b[0m__name__\u001b[0m \u001b[0;34m=\u001b[0m \u001b[0mname\u001b[0m\u001b[0;34m\u001b[0m\u001b[0;34m\u001b[0m\u001b[0m\n",
      "\u001b[0;32m~/workshop/virtualenv/venv3/lib/python3.7/site-packages/pandas/io/parsers.py\u001b[0m in \u001b[0;36m_read\u001b[0;34m(filepath_or_buffer, kwds)\u001b[0m\n\u001b[1;32m    438\u001b[0m \u001b[0;34m\u001b[0m\u001b[0m\n\u001b[1;32m    439\u001b[0m     \u001b[0;31m# Create the parser.\u001b[0m\u001b[0;34m\u001b[0m\u001b[0;34m\u001b[0m\u001b[0;34m\u001b[0m\u001b[0m\n\u001b[0;32m--> 440\u001b[0;31m     \u001b[0mparser\u001b[0m \u001b[0;34m=\u001b[0m \u001b[0mTextFileReader\u001b[0m\u001b[0;34m(\u001b[0m\u001b[0mfilepath_or_buffer\u001b[0m\u001b[0;34m,\u001b[0m \u001b[0;34m**\u001b[0m\u001b[0mkwds\u001b[0m\u001b[0;34m)\u001b[0m\u001b[0;34m\u001b[0m\u001b[0;34m\u001b[0m\u001b[0m\n\u001b[0m\u001b[1;32m    441\u001b[0m \u001b[0;34m\u001b[0m\u001b[0m\n\u001b[1;32m    442\u001b[0m     \u001b[0;32mif\u001b[0m \u001b[0mchunksize\u001b[0m \u001b[0;32mor\u001b[0m \u001b[0miterator\u001b[0m\u001b[0;34m:\u001b[0m\u001b[0;34m\u001b[0m\u001b[0;34m\u001b[0m\u001b[0m\n",
      "\u001b[0;32m~/workshop/virtualenv/venv3/lib/python3.7/site-packages/pandas/io/parsers.py\u001b[0m in \u001b[0;36m__init__\u001b[0;34m(self, f, engine, **kwds)\u001b[0m\n\u001b[1;32m    785\u001b[0m             \u001b[0mself\u001b[0m\u001b[0;34m.\u001b[0m\u001b[0moptions\u001b[0m\u001b[0;34m[\u001b[0m\u001b[0;34m'has_index_names'\u001b[0m\u001b[0;34m]\u001b[0m \u001b[0;34m=\u001b[0m \u001b[0mkwds\u001b[0m\u001b[0;34m[\u001b[0m\u001b[0;34m'has_index_names'\u001b[0m\u001b[0;34m]\u001b[0m\u001b[0;34m\u001b[0m\u001b[0;34m\u001b[0m\u001b[0m\n\u001b[1;32m    786\u001b[0m \u001b[0;34m\u001b[0m\u001b[0m\n\u001b[0;32m--> 787\u001b[0;31m         \u001b[0mself\u001b[0m\u001b[0;34m.\u001b[0m\u001b[0m_make_engine\u001b[0m\u001b[0;34m(\u001b[0m\u001b[0mself\u001b[0m\u001b[0;34m.\u001b[0m\u001b[0mengine\u001b[0m\u001b[0;34m)\u001b[0m\u001b[0;34m\u001b[0m\u001b[0;34m\u001b[0m\u001b[0m\n\u001b[0m\u001b[1;32m    788\u001b[0m \u001b[0;34m\u001b[0m\u001b[0m\n\u001b[1;32m    789\u001b[0m     \u001b[0;32mdef\u001b[0m \u001b[0mclose\u001b[0m\u001b[0;34m(\u001b[0m\u001b[0mself\u001b[0m\u001b[0;34m)\u001b[0m\u001b[0;34m:\u001b[0m\u001b[0;34m\u001b[0m\u001b[0;34m\u001b[0m\u001b[0m\n",
      "\u001b[0;32m~/workshop/virtualenv/venv3/lib/python3.7/site-packages/pandas/io/parsers.py\u001b[0m in \u001b[0;36m_make_engine\u001b[0;34m(self, engine)\u001b[0m\n\u001b[1;32m   1012\u001b[0m     \u001b[0;32mdef\u001b[0m \u001b[0m_make_engine\u001b[0m\u001b[0;34m(\u001b[0m\u001b[0mself\u001b[0m\u001b[0;34m,\u001b[0m \u001b[0mengine\u001b[0m\u001b[0;34m=\u001b[0m\u001b[0;34m'c'\u001b[0m\u001b[0;34m)\u001b[0m\u001b[0;34m:\u001b[0m\u001b[0;34m\u001b[0m\u001b[0;34m\u001b[0m\u001b[0m\n\u001b[1;32m   1013\u001b[0m         \u001b[0;32mif\u001b[0m \u001b[0mengine\u001b[0m \u001b[0;34m==\u001b[0m \u001b[0;34m'c'\u001b[0m\u001b[0;34m:\u001b[0m\u001b[0;34m\u001b[0m\u001b[0;34m\u001b[0m\u001b[0m\n\u001b[0;32m-> 1014\u001b[0;31m             \u001b[0mself\u001b[0m\u001b[0;34m.\u001b[0m\u001b[0m_engine\u001b[0m \u001b[0;34m=\u001b[0m \u001b[0mCParserWrapper\u001b[0m\u001b[0;34m(\u001b[0m\u001b[0mself\u001b[0m\u001b[0;34m.\u001b[0m\u001b[0mf\u001b[0m\u001b[0;34m,\u001b[0m \u001b[0;34m**\u001b[0m\u001b[0mself\u001b[0m\u001b[0;34m.\u001b[0m\u001b[0moptions\u001b[0m\u001b[0;34m)\u001b[0m\u001b[0;34m\u001b[0m\u001b[0;34m\u001b[0m\u001b[0m\n\u001b[0m\u001b[1;32m   1015\u001b[0m         \u001b[0;32melse\u001b[0m\u001b[0;34m:\u001b[0m\u001b[0;34m\u001b[0m\u001b[0;34m\u001b[0m\u001b[0m\n\u001b[1;32m   1016\u001b[0m             \u001b[0;32mif\u001b[0m \u001b[0mengine\u001b[0m \u001b[0;34m==\u001b[0m \u001b[0;34m'python'\u001b[0m\u001b[0;34m:\u001b[0m\u001b[0;34m\u001b[0m\u001b[0;34m\u001b[0m\u001b[0m\n",
      "\u001b[0;32m~/workshop/virtualenv/venv3/lib/python3.7/site-packages/pandas/io/parsers.py\u001b[0m in \u001b[0;36m__init__\u001b[0;34m(self, src, **kwds)\u001b[0m\n\u001b[1;32m   1706\u001b[0m         \u001b[0mkwds\u001b[0m\u001b[0;34m[\u001b[0m\u001b[0;34m'usecols'\u001b[0m\u001b[0;34m]\u001b[0m \u001b[0;34m=\u001b[0m \u001b[0mself\u001b[0m\u001b[0;34m.\u001b[0m\u001b[0musecols\u001b[0m\u001b[0;34m\u001b[0m\u001b[0;34m\u001b[0m\u001b[0m\n\u001b[1;32m   1707\u001b[0m \u001b[0;34m\u001b[0m\u001b[0m\n\u001b[0;32m-> 1708\u001b[0;31m         \u001b[0mself\u001b[0m\u001b[0;34m.\u001b[0m\u001b[0m_reader\u001b[0m \u001b[0;34m=\u001b[0m \u001b[0mparsers\u001b[0m\u001b[0;34m.\u001b[0m\u001b[0mTextReader\u001b[0m\u001b[0;34m(\u001b[0m\u001b[0msrc\u001b[0m\u001b[0;34m,\u001b[0m \u001b[0;34m**\u001b[0m\u001b[0mkwds\u001b[0m\u001b[0;34m)\u001b[0m\u001b[0;34m\u001b[0m\u001b[0;34m\u001b[0m\u001b[0m\n\u001b[0m\u001b[1;32m   1709\u001b[0m \u001b[0;34m\u001b[0m\u001b[0m\n\u001b[1;32m   1710\u001b[0m         \u001b[0mpassed_names\u001b[0m \u001b[0;34m=\u001b[0m \u001b[0mself\u001b[0m\u001b[0;34m.\u001b[0m\u001b[0mnames\u001b[0m \u001b[0;32mis\u001b[0m \u001b[0;32mNone\u001b[0m\u001b[0;34m\u001b[0m\u001b[0;34m\u001b[0m\u001b[0m\n",
      "\u001b[0;32mpandas/_libs/parsers.pyx\u001b[0m in \u001b[0;36mpandas._libs.parsers.TextReader.__cinit__\u001b[0;34m()\u001b[0m\n",
      "\u001b[0;32mpandas/_libs/parsers.pyx\u001b[0m in \u001b[0;36mpandas._libs.parsers.TextReader._setup_parser_source\u001b[0;34m()\u001b[0m\n",
      "\u001b[0;31mFileNotFoundError\u001b[0m: File b'data/train.csv' does not exist"
     ],
     "ename": "FileNotFoundError",
     "evalue": "File b'data/train.csv' does not exist",
     "output_type": "error"
    }
   ],
   "source": [
    "#loading the data\n",
    "pd.read_csv('data/train.csv').head()\n"
   ]
  },
  {
   "cell_type": "code",
   "execution_count": 3,
   "metadata": {},
   "outputs": [],
   "source": [
    "from torchtext.data import Field\n",
    "\n",
    "tokenize = lambda x: x.split()\n",
    "#lowercased, whitespace-tokenized, and preprocessed\n",
    "TEXT = Field(sequential=True, tokenize=tokenize, lower=True)\n",
    "#labels is numeric already\n",
    "LABEL = Field(sequential=False, use_vocab=False)"
   ]
  },
  {
   "cell_type": "code",
   "execution_count": 4,
   "metadata": {},
   "outputs": [
    {
     "name": "stdout",
     "output_type": "stream",
     "text": [
      "size of the train, dev, test dataset: 25 25 33\n",
      "['explanation', 'why', 'the', 'edits', 'made', 'under', 'my', 'username', 'hardcore', 'metallica', 'fan', 'were', 'reverted?', 'they', \"weren't\", 'vandalisms,', 'just', 'closure', 'on', 'some', 'gas', 'after', 'i', 'voted', 'at', 'new', 'york', 'dolls', 'fac.', 'and', 'please', \"don't\", 'remove', 'the', 'template', 'from', 'the', 'talk', 'page', 'since', \"i'm\", 'retired', 'now.89.205.38.27']\n"
     ]
    }
   ],
   "source": [
    "from torchtext.data import TabularDataset\n",
    "trvld_datafields = [(\"id\", None),\n",
    "                (\"comment_text\", TEXT), (\"toxic\", LABEL),\n",
    "                (\"severe_toxic\", LABEL), (\"threat\", LABEL),\n",
    "                (\"obscene\", LABEL), (\"insult\", LABEL),\n",
    "                (\"identity_hate\", LABEL)]\n",
    "\n",
    "trn, vld = TabularDataset.splits(\n",
    "            path=\"data\",\n",
    "            train=\"train.csv\", validation=\"valid.csv\",\n",
    "            format=\"csv\", skip_header=True,\n",
    "            fields=trvld_datafields)\n",
    "\n",
    "tst_datafields = [(\"id\", None), (\"comment_text\", TEXT)]\n",
    "tst = TabularDataset(\n",
    "        path=\"data/test.csv\", format=\"csv\", skip_header=True, fields=tst_datafields)\n",
    "\n",
    "print ('size of the train, dev, test dataset:', len(trn), len(vld), len(tst))\n",
    "# print (trn.fields.items())\n",
    "print (trn[0].comment_text)\n",
    "#print (tst[0].comment_text) \n"
   ]
  },
  {
   "cell_type": "code",
   "execution_count": 5,
   "metadata": {},
   "outputs": [
    {
     "name": "stdout",
     "output_type": "stream",
     "text": [
      "size of the vocab and embedding dim: torch.Size([202, 50])\n",
      "index of the in the vocab: 2\n",
      "index 0 in the vocab: <unk>\n"
     ]
    }
   ],
   "source": [
    "from torchtext import vocab\n",
    "vec = vocab.Vectors('data/glove.6B.50d.txt', './data/')\n",
    "TEXT.build_vocab(trn, vld, max_size=200, vectors=vec)\n",
    "print ('size of the vocab and embedding dim:', TEXT.vocab.vectors.shape) #size=202,50 (max vocab size=200+2 for <unk> and <pad>, and glove vector dim=50)\n",
    "print ('index of the in the vocab:', TEXT.vocab.stoi['the']) #output:2, so the index 2 in vocab is for 'the'\n",
    "print ('index 0 in the vocab:', TEXT.vocab.itos[0]) #output:<unk>, so the index 0 in vocab is for '<unk>'\n",
    "#print ('embedding vector for 'the':', TEXT.vocab.vectors[TEXT.vocab.stoi['the']])\n",
    "\n",
    "#print (TEXT.vocab.freqs.most_common(10))\n",
    "#print (trn[0].__dict__.keys())\n",
    "#print (trn[0].comment_text[:5])"
   ]
  },
  {
   "cell_type": "code",
   "execution_count": 6,
   "metadata": {},
   "outputs": [
    {
     "name": "stdout",
     "output_type": "stream",
     "text": [
      "number of batch (size: 3): 9 9\n",
      "details of batch: \n",
      "[torchtext.data.batch.Batch of size 3]\n",
      "\t[.comment_text]:[torch.cuda.LongTensor of size 81x3 (GPU 0)]\n",
      "\t[.toxic]:[torch.cuda.LongTensor of size 3 (GPU 0)]\n",
      "\t[.severe_toxic]:[torch.cuda.LongTensor of size 3 (GPU 0)]\n",
      "\t[.threat]:[torch.cuda.LongTensor of size 3 (GPU 0)]\n",
      "\t[.obscene]:[torch.cuda.LongTensor of size 3 (GPU 0)]\n",
      "\t[.insult]:[torch.cuda.LongTensor of size 3 (GPU 0)]\n",
      "\t[.identity_hate]:[torch.cuda.LongTensor of size 3 (GPU 0)]\n",
      "the content of 'toxic' for the first 3 examples in batch 1: tensor([0, 0, 0], device='cuda:0')\n"
     ]
    }
   ],
   "source": [
    "#BucketIterator groups sequence of similar lengths text in a batch together to minimize padding! how cool is that!\n",
    "from torchtext.data import Iterator, BucketIterator\n",
    "train_iter, val_iter = BucketIterator.splits((trn, vld),\n",
    "                                            batch_sizes=(3,3),\n",
    "                                            device='cuda',\n",
    "                                            sort_key=lambda x: len(x.comment_text), #tell the bucketIterator how to group the sequences\n",
    "                                            sort_within_batch=False,\n",
    "                                            repeat=False) #we want to wrap this Iterator layer\n",
    "test_iter = Iterator(tst, batch_size=3, device='cuda', sort=False, sort_within_batch=False, repeat=False)\n",
    "\n",
    "print ('number of batch (size: 3):', len(train_iter), len(val_iter)) #output: 9,9. because our train and val data only has 25 examples. since the batch size is 3, it means we have 25/3: 9 batches for each train and val\n",
    "\n",
    "batch = next(iter(train_iter))\n",
    "print ('details of batch:', batch)\n",
    "print (\"the content of 'toxic' for the first 3 examples in batch 1:\", batch.toxic)\n",
    "#print (\"the content of 'comment_text' for the first 3 examples in batch 1, size depends on the longest sequence:\", batch.comment_text)\n",
    "#print (batch.dataset.fields)"
   ]
  },
  {
   "cell_type": "code",
   "execution_count": 7,
   "metadata": {},
   "outputs": [],
   "source": [
    "class BatchGenerator:\n",
    "    def __init__(self, dl, x, y):\n",
    "        self.dl, self.x, self.y = dl, x, y\n",
    "    def __len__(self):\n",
    "        return len(self.dl)\n",
    "    def __iter__(self):\n",
    "        for batch in self.dl:\n",
    "            X = getattr(batch, self.x) #assuming one input\n",
    "            if self.y is not None: #concat the y into single tensor\n",
    "                y = torch.cat([getattr(batch, feat).unsqueeze(1) for feat in self.y], dim=1).float()\n",
    "            else:\n",
    "                y = torch.zeros((1))\n",
    "            yield (X,y)\n",
    "\n",
    "train_batch_it = BatchGenerator(train_iter, 'comment_text', ['toxic', 'threat'])\n",
    "#print ('get data x and y out of batch object:', next(iter(train_batch_it)))\n",
    "valid_batch_it = BatchGenerator(val_iter, 'comment_text', ['toxic', 'threat'])\n",
    "test_batch_it = BatchGenerator(test_iter, 'comment_text', None)\n",
    "#print (next(test_batch_it.__iter__()))"
   ]
  },
  {
   "cell_type": "code",
   "execution_count": 8,
   "metadata": {},
   "outputs": [
    {
     "name": "stdout",
     "output_type": "stream",
     "text": [
      "BiLSTM(\n",
      "  (embedding): Embedding(202, 50)\n",
      "  (encoder): LSTM(50, 50, num_layers=2, dropout=0.1, bidirectional=True)\n",
      "  (linear): Linear(in_features=100, out_features=50, bias=True)\n",
      "  (predictor): Linear(in_features=50, out_features=2, bias=True)\n",
      ")\n"
     ]
    },
    {
     "data": {
      "text/plain": [
       "BiLSTM(\n",
       "  (embedding): Embedding(202, 50)\n",
       "  (encoder): LSTM(50, 50, num_layers=2, dropout=0.1, bidirectional=True)\n",
       "  (linear): Linear(in_features=100, out_features=50, bias=True)\n",
       "  (predictor): Linear(in_features=50, out_features=2, bias=True)\n",
       ")"
      ]
     },
     "execution_count": 8,
     "metadata": {},
     "output_type": "execute_result"
    }
   ],
   "source": [
    "import torch.optim as optim\n",
    "import torch.nn as nn\n",
    "from model import BiLSTM\n",
    "\n",
    "vocab_size = len(TEXT.vocab)\n",
    "emb_dim = 50\n",
    "hidden_dim = 50\n",
    "out_dim = 2 #only use 'toxic' and 'threat'\n",
    "pretrained_vec = trn.fields['comment_text'].vocab.vectors\n",
    "model = BiLSTM(vocab_size, hidden_dim, emb_dim, out_dim, pretrained_vec)\n",
    "print (model)\n",
    "model.cuda()"
   ]
  },
  {
   "cell_type": "code",
   "execution_count": 9,
   "metadata": {},
   "outputs": [
    {
     "name": "stderr",
     "output_type": "stream",
     "text": [
      "100%|██████████| 9/9 [00:00<00:00, 57.63it/s]\n",
      "100%|██████████| 9/9 [00:00<00:00, 93.73it/s]\n",
      "  0%|          | 0/9 [00:00<?, ?it/s]"
     ]
    },
    {
     "name": "stdout",
     "output_type": "stream",
     "text": [
      "Epoch: 1, Training loss: 25.9261, Validation loss: 8.6712\n",
      "Epoch: 2, Training loss: 8.9861, Validation loss: 7.9194\n"
     ]
    },
    {
     "name": "stderr",
     "output_type": "stream",
     "text": [
      "100%|██████████| 9/9 [00:00<00:00, 88.08it/s]\n",
      "100%|██████████| 9/9 [00:00<00:00, 83.40it/s]\n",
      "  0%|          | 0/9 [00:00<?, ?it/s]"
     ]
    },
    {
     "name": "stdout",
     "output_type": "stream",
     "text": [
      "Epoch: 3, Training loss: 5.4544, Validation loss: 8.8107\n",
      "Epoch: 4, Training loss: 11.9140, Validation loss: 7.6765\n"
     ]
    },
    {
     "name": "stderr",
     "output_type": "stream",
     "text": [
      "100%|██████████| 9/9 [00:00<00:00, 84.52it/s]\n",
      "100%|██████████| 9/9 [00:00<00:00, 82.32it/s]\n",
      "  0%|          | 0/9 [00:00<?, ?it/s]"
     ]
    },
    {
     "name": "stdout",
     "output_type": "stream",
     "text": [
      "Epoch: 5, Training loss: 10.6329, Validation loss: 8.3382\n",
      "Epoch: 6, Training loss: 12.8446, Validation loss: 10.4829\n"
     ]
    },
    {
     "name": "stderr",
     "output_type": "stream",
     "text": [
      "100%|██████████| 9/9 [00:00<00:00, 85.52it/s]\n",
      "100%|██████████| 9/9 [00:00<00:00, 81.55it/s]\n",
      "  0%|          | 0/9 [00:00<?, ?it/s]"
     ]
    },
    {
     "name": "stdout",
     "output_type": "stream",
     "text": [
      "Epoch: 7, Training loss: 8.2467, Validation loss: 8.2900\n",
      "Epoch: 8, Training loss: 8.8832, Validation loss: 7.9705\n"
     ]
    },
    {
     "name": "stderr",
     "output_type": "stream",
     "text": [
      "100%|██████████| 9/9 [00:00<00:00, 82.35it/s]\n",
      "100%|██████████| 9/9 [00:00<00:00, 86.31it/s]\n",
      "  0%|          | 0/9 [00:00<?, ?it/s]"
     ]
    },
    {
     "name": "stdout",
     "output_type": "stream",
     "text": [
      "Epoch: 9, Training loss: 11.8716, Validation loss: 7.6113\n",
      "Epoch: 10, Training loss: 12.1771, Validation loss: 7.2746\n"
     ]
    },
    {
     "name": "stderr",
     "output_type": "stream",
     "text": [
      "100%|██████████| 9/9 [00:00<00:00, 87.52it/s]\n",
      "100%|██████████| 9/9 [00:00<00:00, 79.82it/s]\n",
      "  0%|          | 0/9 [00:00<?, ?it/s]"
     ]
    },
    {
     "name": "stdout",
     "output_type": "stream",
     "text": [
      "Epoch: 11, Training loss: 8.7196, Validation loss: 7.6162\n",
      "Epoch: 12, Training loss: 9.1371, Validation loss: 8.1272\n"
     ]
    },
    {
     "name": "stderr",
     "output_type": "stream",
     "text": [
      "100%|██████████| 9/9 [00:00<00:00, 87.84it/s]\n",
      "100%|██████████| 9/9 [00:00<00:00, 79.55it/s]\n",
      "  0%|          | 0/9 [00:00<?, ?it/s]"
     ]
    },
    {
     "name": "stdout",
     "output_type": "stream",
     "text": [
      "Epoch: 13, Training loss: 6.4291, Validation loss: 7.6623\n",
      "Epoch: 14, Training loss: 10.9454, Validation loss: 7.3563\n"
     ]
    },
    {
     "name": "stderr",
     "output_type": "stream",
     "text": [
      "100%|██████████| 9/9 [00:00<00:00, 85.04it/s]\n",
      "100%|██████████| 9/9 [00:00<00:00, 83.53it/s]\n",
      "  0%|          | 0/9 [00:00<?, ?it/s]"
     ]
    },
    {
     "name": "stdout",
     "output_type": "stream",
     "text": [
      "Epoch: 15, Training loss: 10.5560, Validation loss: 6.9568\n",
      "Epoch: 16, Training loss: 7.8639, Validation loss: 6.8757\n"
     ]
    },
    {
     "name": "stderr",
     "output_type": "stream",
     "text": [
      "100%|██████████| 9/9 [00:00<00:00, 85.76it/s]\n",
      "100%|██████████| 9/9 [00:00<00:00, 93.24it/s]\n",
      "  0%|          | 0/9 [00:00<?, ?it/s]"
     ]
    },
    {
     "name": "stdout",
     "output_type": "stream",
     "text": [
      "Epoch: 17, Training loss: 6.6210, Validation loss: 7.2120\n",
      "Epoch: 18, Training loss: 5.3851, Validation loss: 7.4727\n"
     ]
    },
    {
     "name": "stderr",
     "output_type": "stream",
     "text": [
      "100%|██████████| 9/9 [00:00<00:00, 83.19it/s]\n",
      "100%|██████████| 9/9 [00:00<00:00, 82.89it/s]\n",
      "  0%|          | 0/9 [00:00<?, ?it/s]"
     ]
    },
    {
     "name": "stdout",
     "output_type": "stream",
     "text": [
      "Epoch: 19, Training loss: 9.1602, Validation loss: 6.5013\n",
      "Epoch: 20, Training loss: 7.9533, Validation loss: 6.6524\n"
     ]
    },
    {
     "name": "stderr",
     "output_type": "stream",
     "text": [
      "100%|██████████| 9/9 [00:00<00:00, 82.28it/s]\n",
      "100%|██████████| 9/9 [00:00<00:00, 82.99it/s]\n",
      "  0%|          | 0/9 [00:00<?, ?it/s]"
     ]
    },
    {
     "name": "stdout",
     "output_type": "stream",
     "text": [
      "Epoch: 21, Training loss: 9.7760, Validation loss: 6.8804\n",
      "Epoch: 22, Training loss: 13.1008, Validation loss: 8.4852\n"
     ]
    },
    {
     "name": "stderr",
     "output_type": "stream",
     "text": [
      "100%|██████████| 9/9 [00:00<00:00, 82.49it/s]\n",
      "100%|██████████| 9/9 [00:00<00:00, 84.10it/s]\n",
      "  0%|          | 0/9 [00:00<?, ?it/s]"
     ]
    },
    {
     "name": "stdout",
     "output_type": "stream",
     "text": [
      "Epoch: 23, Training loss: 15.8049, Validation loss: 9.9014\n",
      "Epoch: 24, Training loss: 15.0032, Validation loss: 10.3156\n"
     ]
    },
    {
     "name": "stderr",
     "output_type": "stream",
     "text": [
      "100%|██████████| 9/9 [00:00<00:00, 81.89it/s]\n",
      "100%|██████████| 9/9 [00:00<00:00, 82.25it/s]\n",
      "  0%|          | 0/9 [00:00<?, ?it/s]"
     ]
    },
    {
     "name": "stdout",
     "output_type": "stream",
     "text": [
      "Epoch: 25, Training loss: 9.6093, Validation loss: 7.3690\n",
      "Epoch: 26, Training loss: 5.7690, Validation loss: 7.4250\n"
     ]
    },
    {
     "name": "stderr",
     "output_type": "stream",
     "text": [
      "100%|██████████| 9/9 [00:00<00:00, 87.94it/s]\n",
      "100%|██████████| 9/9 [00:00<00:00, 98.89it/s]\n",
      "  0%|          | 0/9 [00:00<?, ?it/s]"
     ]
    },
    {
     "name": "stdout",
     "output_type": "stream",
     "text": [
      "Epoch: 27, Training loss: 7.5847, Validation loss: 6.7760\n",
      "Epoch: 28, Training loss: 5.0818, Validation loss: 7.2657\n"
     ]
    },
    {
     "name": "stderr",
     "output_type": "stream",
     "text": [
      "100%|██████████| 9/9 [00:00<00:00, 94.59it/s]\n",
      "100%|██████████| 9/9 [00:00<00:00, 82.77it/s]\n",
      "  0%|          | 0/9 [00:00<?, ?it/s]"
     ]
    },
    {
     "name": "stdout",
     "output_type": "stream",
     "text": [
      "Epoch: 29, Training loss: 4.1081, Validation loss: 7.4917\n",
      "Epoch: 30, Training loss: 14.2057, Validation loss: 6.7578\n"
     ]
    },
    {
     "name": "stderr",
     "output_type": "stream",
     "text": [
      "100%|██████████| 9/9 [00:00<00:00, 84.06it/s]\n",
      "100%|██████████| 9/9 [00:00<00:00, 86.15it/s]\n",
      "  0%|          | 0/9 [00:00<?, ?it/s]"
     ]
    },
    {
     "name": "stdout",
     "output_type": "stream",
     "text": [
      "Epoch: 31, Training loss: 7.1429, Validation loss: 7.2330\n",
      "Epoch: 32, Training loss: 6.5178, Validation loss: 7.2265\n"
     ]
    },
    {
     "name": "stderr",
     "output_type": "stream",
     "text": [
      "100%|██████████| 9/9 [00:00<00:00, 84.04it/s]\n",
      "100%|██████████| 9/9 [00:00<00:00, 83.22it/s]\n",
      "  0%|          | 0/9 [00:00<?, ?it/s]"
     ]
    },
    {
     "name": "stdout",
     "output_type": "stream",
     "text": [
      "Epoch: 33, Training loss: 4.4982, Validation loss: 9.9698\n",
      "Epoch: 34, Training loss: 5.7007, Validation loss: 16.3991\n"
     ]
    },
    {
     "name": "stderr",
     "output_type": "stream",
     "text": [
      "100%|██████████| 9/9 [00:00<00:00, 96.06it/s]\n",
      "100%|██████████| 9/9 [00:00<00:00, 85.73it/s]\n",
      "  0%|          | 0/9 [00:00<?, ?it/s]"
     ]
    },
    {
     "name": "stdout",
     "output_type": "stream",
     "text": [
      "Epoch: 35, Training loss: 3.9495, Validation loss: 12.0924\n",
      "Epoch: 36, Training loss: 5.8923, Validation loss: 13.5782\n"
     ]
    },
    {
     "name": "stderr",
     "output_type": "stream",
     "text": [
      "100%|██████████| 9/9 [00:00<00:00, 87.23it/s]\n",
      "100%|██████████| 9/9 [00:00<00:00, 91.27it/s]\n",
      "  0%|          | 0/9 [00:00<?, ?it/s]"
     ]
    },
    {
     "name": "stdout",
     "output_type": "stream",
     "text": [
      "Epoch: 37, Training loss: 2.0049, Validation loss: 14.0174\n",
      "Epoch: 38, Training loss: 2.3065, Validation loss: 13.7082\n"
     ]
    },
    {
     "name": "stderr",
     "output_type": "stream",
     "text": [
      "100%|██████████| 9/9 [00:00<00:00, 85.44it/s]\n",
      "100%|██████████| 9/9 [00:00<00:00, 91.73it/s]\n",
      "  0%|          | 0/9 [00:00<?, ?it/s]"
     ]
    },
    {
     "name": "stdout",
     "output_type": "stream",
     "text": [
      "Epoch: 39, Training loss: 4.9104, Validation loss: 15.1372\n",
      "Epoch: 40, Training loss: 3.9242, Validation loss: 15.6447\n"
     ]
    },
    {
     "name": "stderr",
     "output_type": "stream",
     "text": [
      "100%|██████████| 9/9 [00:00<00:00, 84.19it/s]\n",
      "100%|██████████| 9/9 [00:00<00:00, 88.57it/s]\n",
      "  0%|          | 0/9 [00:00<?, ?it/s]"
     ]
    },
    {
     "name": "stdout",
     "output_type": "stream",
     "text": [
      "Epoch: 41, Training loss: 1.5951, Validation loss: 18.3174\n",
      "Epoch: 42, Training loss: 0.7603, Validation loss: 19.5606\n"
     ]
    },
    {
     "name": "stderr",
     "output_type": "stream",
     "text": [
      "100%|██████████| 9/9 [00:00<00:00, 82.54it/s]\n",
      "100%|██████████| 9/9 [00:00<00:00, 83.85it/s]\n",
      "  0%|          | 0/9 [00:00<?, ?it/s]"
     ]
    },
    {
     "name": "stdout",
     "output_type": "stream",
     "text": [
      "Epoch: 43, Training loss: 2.8748, Validation loss: 20.1505\n",
      "Epoch: 44, Training loss: 1.2025, Validation loss: 20.9457\n"
     ]
    },
    {
     "name": "stderr",
     "output_type": "stream",
     "text": [
      "100%|██████████| 9/9 [00:00<00:00, 80.28it/s]\n",
      "100%|██████████| 9/9 [00:00<00:00, 85.98it/s]\n",
      "  0%|          | 0/9 [00:00<?, ?it/s]"
     ]
    },
    {
     "name": "stdout",
     "output_type": "stream",
     "text": [
      "Epoch: 45, Training loss: 1.2457, Validation loss: 21.3389\n",
      "Epoch: 46, Training loss: 0.6532, Validation loss: 22.1204\n"
     ]
    },
    {
     "name": "stderr",
     "output_type": "stream",
     "text": [
      "100%|██████████| 9/9 [00:00<00:00, 84.70it/s]\n",
      "100%|██████████| 9/9 [00:00<00:00, 87.95it/s]\n",
      "  0%|          | 0/9 [00:00<?, ?it/s]"
     ]
    },
    {
     "name": "stdout",
     "output_type": "stream",
     "text": [
      "Epoch: 47, Training loss: 1.5290, Validation loss: 22.8157\n",
      "Epoch: 48, Training loss: 0.3231, Validation loss: 22.9344\n"
     ]
    },
    {
     "name": "stderr",
     "output_type": "stream",
     "text": [
      "100%|██████████| 9/9 [00:00<00:00, 81.22it/s]\n",
      "100%|██████████| 9/9 [00:00<00:00, 86.30it/s]\n",
      "  0%|          | 0/9 [00:00<?, ?it/s]"
     ]
    },
    {
     "name": "stdout",
     "output_type": "stream",
     "text": [
      "Epoch: 49, Training loss: 5.2015, Validation loss: 22.5624\n",
      "Epoch: 50, Training loss: 1.1844, Validation loss: 22.1335\n"
     ]
    },
    {
     "name": "stderr",
     "output_type": "stream",
     "text": [
      "100%|██████████| 9/9 [00:00<00:00, 79.68it/s]\n",
      "100%|██████████| 9/9 [00:00<00:00, 79.82it/s]\n",
      "  0%|          | 0/9 [00:00<?, ?it/s]"
     ]
    },
    {
     "name": "stdout",
     "output_type": "stream",
     "text": [
      "Epoch: 51, Training loss: 4.0053, Validation loss: 22.4229\n",
      "Epoch: 52, Training loss: 1.3590, Validation loss: 22.4594\n"
     ]
    },
    {
     "name": "stderr",
     "output_type": "stream",
     "text": [
      "100%|██████████| 9/9 [00:00<00:00, 79.99it/s]\n",
      "100%|██████████| 9/9 [00:00<00:00, 86.03it/s]\n",
      "  0%|          | 0/9 [00:00<?, ?it/s]"
     ]
    },
    {
     "name": "stdout",
     "output_type": "stream",
     "text": [
      "Epoch: 53, Training loss: 2.6327, Validation loss: 22.0849\n",
      "Epoch: 54, Training loss: 1.3539, Validation loss: 22.3474\n"
     ]
    },
    {
     "name": "stderr",
     "output_type": "stream",
     "text": [
      "100%|██████████| 9/9 [00:00<00:00, 84.73it/s]\n",
      "100%|██████████| 9/9 [00:00<00:00, 85.49it/s]\n",
      "  0%|          | 0/9 [00:00<?, ?it/s]"
     ]
    },
    {
     "name": "stdout",
     "output_type": "stream",
     "text": [
      "Epoch: 55, Training loss: 4.3041, Validation loss: 25.4092\n",
      "Epoch: 56, Training loss: 5.3848, Validation loss: 15.5486\n"
     ]
    },
    {
     "name": "stderr",
     "output_type": "stream",
     "text": [
      "100%|██████████| 9/9 [00:00<00:00, 80.43it/s]\n",
      "100%|██████████| 9/9 [00:00<00:00, 82.66it/s]\n",
      "  0%|          | 0/9 [00:00<?, ?it/s]"
     ]
    },
    {
     "name": "stdout",
     "output_type": "stream",
     "text": [
      "Epoch: 57, Training loss: 10.3114, Validation loss: 15.1265\n",
      "Epoch: 58, Training loss: 6.1756, Validation loss: 15.0428\n"
     ]
    },
    {
     "name": "stderr",
     "output_type": "stream",
     "text": [
      "100%|██████████| 9/9 [00:00<00:00, 82.35it/s]\n",
      "100%|██████████| 9/9 [00:00<00:00, 89.06it/s]\n",
      "  0%|          | 0/9 [00:00<?, ?it/s]"
     ]
    },
    {
     "name": "stdout",
     "output_type": "stream",
     "text": [
      "Epoch: 59, Training loss: 2.5975, Validation loss: 10.9940\n",
      "Epoch: 60, Training loss: 2.1628, Validation loss: 8.2607\n"
     ]
    },
    {
     "name": "stderr",
     "output_type": "stream",
     "text": [
      "100%|██████████| 9/9 [00:00<00:00, 82.74it/s]\n",
      "100%|██████████| 9/9 [00:00<00:00, 87.77it/s]\n",
      "  0%|          | 0/9 [00:00<?, ?it/s]"
     ]
    },
    {
     "name": "stdout",
     "output_type": "stream",
     "text": [
      "Epoch: 61, Training loss: 105.2827, Validation loss: 16.2615\n",
      "Epoch: 62, Training loss: 14.9346, Validation loss: 12.9086\n"
     ]
    },
    {
     "name": "stderr",
     "output_type": "stream",
     "text": [
      "100%|██████████| 9/9 [00:00<00:00, 90.39it/s]\n",
      "100%|██████████| 9/9 [00:00<00:00, 88.44it/s]\n",
      "  0%|          | 0/9 [00:00<?, ?it/s]"
     ]
    },
    {
     "name": "stdout",
     "output_type": "stream",
     "text": [
      "Epoch: 63, Training loss: 15.4586, Validation loss: 7.1040\n",
      "Epoch: 64, Training loss: 9.5348, Validation loss: 8.4938\n"
     ]
    },
    {
     "name": "stderr",
     "output_type": "stream",
     "text": [
      "100%|██████████| 9/9 [00:00<00:00, 102.76it/s]\n",
      "100%|██████████| 9/9 [00:00<00:00, 85.09it/s]\n",
      "  0%|          | 0/9 [00:00<?, ?it/s]"
     ]
    },
    {
     "name": "stdout",
     "output_type": "stream",
     "text": [
      "Epoch: 65, Training loss: 5.5719, Validation loss: 15.6646\n",
      "Epoch: 66, Training loss: 5.9162, Validation loss: 7.5035\n"
     ]
    },
    {
     "name": "stderr",
     "output_type": "stream",
     "text": [
      "100%|██████████| 9/9 [00:00<00:00, 82.50it/s]\n",
      "100%|██████████| 9/9 [00:00<00:00, 85.25it/s]\n",
      "  0%|          | 0/9 [00:00<?, ?it/s]"
     ]
    },
    {
     "name": "stdout",
     "output_type": "stream",
     "text": [
      "Epoch: 67, Training loss: 17.1358, Validation loss: 7.4945\n",
      "Epoch: 68, Training loss: 6.1251, Validation loss: 7.7615\n"
     ]
    },
    {
     "name": "stderr",
     "output_type": "stream",
     "text": [
      "100%|██████████| 9/9 [00:00<00:00, 84.29it/s]\n",
      "100%|██████████| 9/9 [00:00<00:00, 85.96it/s]\n",
      "  0%|          | 0/9 [00:00<?, ?it/s]"
     ]
    },
    {
     "name": "stdout",
     "output_type": "stream",
     "text": [
      "Epoch: 69, Training loss: 8.5145, Validation loss: 7.0017\n",
      "Epoch: 70, Training loss: 9.2276, Validation loss: 7.0544\n"
     ]
    },
    {
     "name": "stderr",
     "output_type": "stream",
     "text": [
      "100%|██████████| 9/9 [00:00<00:00, 86.88it/s]\n",
      "100%|██████████| 9/9 [00:00<00:00, 80.38it/s]\n",
      "  0%|          | 0/9 [00:00<?, ?it/s]"
     ]
    },
    {
     "name": "stdout",
     "output_type": "stream",
     "text": [
      "Epoch: 71, Training loss: 10.5273, Validation loss: 7.2567\n",
      "Epoch: 72, Training loss: 20.5243, Validation loss: 7.3064\n"
     ]
    },
    {
     "name": "stderr",
     "output_type": "stream",
     "text": [
      "100%|██████████| 9/9 [00:00<00:00, 91.05it/s]\n",
      "100%|██████████| 9/9 [00:00<00:00, 77.94it/s]\n",
      "  0%|          | 0/9 [00:00<?, ?it/s]"
     ]
    },
    {
     "name": "stdout",
     "output_type": "stream",
     "text": [
      "Epoch: 73, Training loss: 6.6637, Validation loss: 7.8810\n",
      "Epoch: 74, Training loss: 15.1321, Validation loss: 7.6079\n"
     ]
    },
    {
     "name": "stderr",
     "output_type": "stream",
     "text": [
      "100%|██████████| 9/9 [00:00<00:00, 83.74it/s]\n",
      "100%|██████████| 9/9 [00:00<00:00, 85.61it/s]\n",
      "  0%|          | 0/9 [00:00<?, ?it/s]"
     ]
    },
    {
     "name": "stdout",
     "output_type": "stream",
     "text": [
      "Epoch: 75, Training loss: 8.8468, Validation loss: 6.5537\n",
      "Epoch: 76, Training loss: 12.7855, Validation loss: 6.7395\n"
     ]
    },
    {
     "name": "stderr",
     "output_type": "stream",
     "text": [
      "100%|██████████| 9/9 [00:00<00:00, 83.05it/s]\n",
      "100%|██████████| 9/9 [00:00<00:00, 86.94it/s]\n",
      "  0%|          | 0/9 [00:00<?, ?it/s]"
     ]
    },
    {
     "name": "stdout",
     "output_type": "stream",
     "text": [
      "Epoch: 77, Training loss: 14.4861, Validation loss: 7.1297\n",
      "Epoch: 78, Training loss: 8.6720, Validation loss: 7.3325\n"
     ]
    },
    {
     "name": "stderr",
     "output_type": "stream",
     "text": [
      "100%|██████████| 9/9 [00:00<00:00, 86.67it/s]\n",
      "100%|██████████| 9/9 [00:00<00:00, 83.78it/s]\n",
      "  0%|          | 0/9 [00:00<?, ?it/s]"
     ]
    },
    {
     "name": "stdout",
     "output_type": "stream",
     "text": [
      "Epoch: 79, Training loss: 8.3913, Validation loss: 6.6825\n",
      "Epoch: 80, Training loss: 12.7401, Validation loss: 6.7922\n"
     ]
    },
    {
     "name": "stderr",
     "output_type": "stream",
     "text": [
      "100%|██████████| 9/9 [00:00<00:00, 86.54it/s]\n",
      "100%|██████████| 9/9 [00:00<00:00, 85.79it/s]\n",
      "  0%|          | 0/9 [00:00<?, ?it/s]"
     ]
    },
    {
     "name": "stdout",
     "output_type": "stream",
     "text": [
      "Epoch: 81, Training loss: 6.3481, Validation loss: 6.6650\n",
      "Epoch: 82, Training loss: 8.8273, Validation loss: 6.6328\n"
     ]
    },
    {
     "name": "stderr",
     "output_type": "stream",
     "text": [
      "100%|██████████| 9/9 [00:00<00:00, 81.71it/s]\n",
      "100%|██████████| 9/9 [00:00<00:00, 86.66it/s]\n",
      "  0%|          | 0/9 [00:00<?, ?it/s]"
     ]
    },
    {
     "name": "stdout",
     "output_type": "stream",
     "text": [
      "Epoch: 83, Training loss: 20.3149, Validation loss: 7.1748\n",
      "Epoch: 84, Training loss: 4.7511, Validation loss: 8.0911\n"
     ]
    },
    {
     "name": "stderr",
     "output_type": "stream",
     "text": [
      "100%|██████████| 9/9 [00:00<00:00, 98.19it/s]\n",
      "100%|██████████| 9/9 [00:00<00:00, 81.30it/s]\n",
      "  0%|          | 0/9 [00:00<?, ?it/s]"
     ]
    },
    {
     "name": "stdout",
     "output_type": "stream",
     "text": [
      "Epoch: 85, Training loss: 5.0704, Validation loss: 6.5089\n",
      "Epoch: 86, Training loss: 9.4381, Validation loss: 7.0468\n"
     ]
    },
    {
     "name": "stderr",
     "output_type": "stream",
     "text": [
      "100%|██████████| 9/9 [00:00<00:00, 86.94it/s]\n",
      "100%|██████████| 9/9 [00:00<00:00, 94.85it/s]\n",
      "  0%|          | 0/9 [00:00<?, ?it/s]"
     ]
    },
    {
     "name": "stdout",
     "output_type": "stream",
     "text": [
      "Epoch: 87, Training loss: 8.8277, Validation loss: 6.9935\n",
      "Epoch: 88, Training loss: 5.5958, Validation loss: 7.2249\n"
     ]
    },
    {
     "name": "stderr",
     "output_type": "stream",
     "text": [
      "100%|██████████| 9/9 [00:00<00:00, 92.18it/s]\n",
      "100%|██████████| 9/9 [00:00<00:00, 83.75it/s]\n",
      "  0%|          | 0/9 [00:00<?, ?it/s]"
     ]
    },
    {
     "name": "stdout",
     "output_type": "stream",
     "text": [
      "Epoch: 89, Training loss: 20.3986, Validation loss: 6.9715\n",
      "Epoch: 90, Training loss: 7.6194, Validation loss: 7.1846\n"
     ]
    },
    {
     "name": "stderr",
     "output_type": "stream",
     "text": [
      "100%|██████████| 9/9 [00:00<00:00, 86.29it/s]\n",
      "100%|██████████| 9/9 [00:00<00:00, 88.86it/s]\n",
      "  0%|          | 0/9 [00:00<?, ?it/s]"
     ]
    },
    {
     "name": "stdout",
     "output_type": "stream",
     "text": [
      "Epoch: 91, Training loss: 19.9324, Validation loss: 7.4958\n",
      "Epoch: 92, Training loss: 6.3905, Validation loss: 7.4822\n"
     ]
    },
    {
     "name": "stderr",
     "output_type": "stream",
     "text": [
      "100%|██████████| 9/9 [00:00<00:00, 94.67it/s]\n",
      "100%|██████████| 9/9 [00:00<00:00, 93.41it/s]\n",
      "  0%|          | 0/9 [00:00<?, ?it/s]"
     ]
    },
    {
     "name": "stdout",
     "output_type": "stream",
     "text": [
      "Epoch: 93, Training loss: 4.7218, Validation loss: 7.4334\n",
      "Epoch: 94, Training loss: 5.0313, Validation loss: 8.1144\n"
     ]
    },
    {
     "name": "stderr",
     "output_type": "stream",
     "text": [
      "100%|██████████| 9/9 [00:00<00:00, 82.86it/s]\n",
      "100%|██████████| 9/9 [00:00<00:00, 84.09it/s]\n",
      "  0%|          | 0/9 [00:00<?, ?it/s]"
     ]
    },
    {
     "name": "stdout",
     "output_type": "stream",
     "text": [
      "Epoch: 95, Training loss: 6.0118, Validation loss: 8.5890\n",
      "Epoch: 96, Training loss: 6.1063, Validation loss: 7.4158\n"
     ]
    },
    {
     "name": "stderr",
     "output_type": "stream",
     "text": [
      "100%|██████████| 9/9 [00:00<00:00, 94.60it/s]\n",
      "100%|██████████| 9/9 [00:00<00:00, 79.99it/s]\n",
      "  0%|          | 0/9 [00:00<?, ?it/s]"
     ]
    },
    {
     "name": "stdout",
     "output_type": "stream",
     "text": [
      "Epoch: 97, Training loss: 6.5337, Validation loss: 7.3633\n",
      "Epoch: 98, Training loss: 10.6001, Validation loss: 11.2602\n"
     ]
    },
    {
     "name": "stderr",
     "output_type": "stream",
     "text": [
      "100%|██████████| 9/9 [00:00<00:00, 96.63it/s]\n",
      "100%|██████████| 9/9 [00:00<00:00, 85.64it/s]\n",
      "100%|██████████| 11/11 [00:00<00:00, 327.67it/s]\n"
     ]
    },
    {
     "name": "stdout",
     "output_type": "stream",
     "text": [
      "Epoch: 99, Training loss: 8.1684, Validation loss: 6.8993\n",
      "Epoch: 100, Training loss: 9.4210, Validation loss: 7.2161\n",
      "tensor([0.])  >>>  [[0.23881277 0.08824946]\n",
      " [0.2781726  0.11172245]\n",
      " [0.28724715 0.11747126]]\n",
      "tensor([0.])  >>>  [[0.27978233 0.11262092]\n",
      " [0.10079432 0.02104778]\n",
      " [0.26009873 0.10076674]]\n",
      "tensor([0.])  >>>  [[0.10489148 0.02876967]\n",
      " [0.24622346 0.09321608]\n",
      " [0.29209104 0.12114687]]\n",
      "tensor([0.])  >>>  [[2.6763532e-01 1.0560413e-01]\n",
      " [1.2381314e-03 1.2568892e-05]\n",
      " [3.1831092e-01 1.3874455e-01]]\n",
      "tensor([0.])  >>>  [[0.17121172 0.05217163]\n",
      " [0.289176   0.11895587]\n",
      " [0.2665556  0.10475722]]\n",
      "tensor([0.])  >>>  [[0.27845877 0.11231128]\n",
      " [0.33459753 0.15155105]\n",
      " [0.08024506 0.0183387 ]]\n",
      "tensor([0.])  >>>  [[0.30856246 0.13241799]\n",
      " [0.247048   0.09342492]\n",
      " [0.3295039  0.14782819]]\n",
      "tensor([0.])  >>>  [[2.7767038e-01 1.1168647e-01]\n",
      " [2.5713423e-01 9.9487007e-02]\n",
      " [1.2169953e-03 1.2569467e-05]]\n",
      "tensor([0.])  >>>  [[0.08982021 0.02342796]\n",
      " [0.24915685 0.09479842]\n",
      " [0.26266423 0.10247744]]\n",
      "tensor([0.])  >>>  [[0.26697955 0.10502699]\n",
      " [0.25606397 0.09562185]\n",
      " [0.31884313 0.13908732]]\n",
      "tensor([0.])  >>>  [[0.27206352 0.10836006]\n",
      " [0.09309472 0.01868971]\n",
      " [0.26210693 0.10213692]]\n"
     ]
    }
   ],
   "source": [
    "import tqdm\n",
    "import torch\n",
    "import numpy as np\n",
    "opt = optim.Adam(model.parameters(), lr=1e-2)\n",
    "criterion = nn.BCEWithLogitsLoss()\n",
    "epochs = 100\n",
    "train_loss = []\n",
    "valid_loss = []\n",
    "\n",
    "for epoch in range(1, epochs+1):\n",
    "    training_loss = 0.0\n",
    "    training_corrects = 0\n",
    "    model.train()\n",
    "    for x, y in tqdm.tqdm(train_batch_it):\n",
    "        opt.zero_grad()\n",
    "        preds = model(x)\n",
    "        loss = criterion(preds, y)\n",
    "\n",
    "        loss.backward()\n",
    "        opt.step()\n",
    "        training_loss += loss.item() * x.size(0)\n",
    "    epoch_loss = training_loss/ len(trn)\n",
    "\n",
    "    val_loss = 0.0\n",
    "    model.eval()\n",
    "    for x,y in valid_batch_it:\n",
    "        preds = model(x)\n",
    "        loss = criterion(preds, y)\n",
    "        val_loss += loss.item() * x.size(0)\n",
    "    val_loss /= len(vld)\n",
    "    train_loss.append(epoch_loss)\n",
    "    valid_loss.append(val_loss)\n",
    "    print ('Epoch: {}, Training loss: {:.4f}, Validation loss: {:.4f}'.format(epoch, epoch_loss, val_loss))\n",
    "    \n",
    "#predictions. note that the preds is the probability of the comment belong in each category output\n",
    "test_preds = []\n",
    "for x, y in tqdm.tqdm(test_batch_it):\n",
    "    preds = model(x)\n",
    "    preds = preds.data.cpu().numpy()\n",
    "    preds = 1/(1+np.exp(-preds)) #actual output of the model are logits, so we need to pass into sigmoid function\n",
    "    test_preds.append(preds)\n",
    "    print (y, ' >>> ',  preds)\n",
    "\n",
    "test_preds = np.hstack(test_preds)\n"
   ]
  },
  {
   "cell_type": "code",
   "execution_count": 12,
   "metadata": {},
   "outputs": [
    {
     "name": "stdout",
     "output_type": "stream",
     "text": [
      "range(1, 101)\n"
     ]
    },
    {
     "data": {
      "image/png": "[encoded data removed]",
      "text/plain": [
       "<Figure size 432x288 with 1 Axes>"
      ]
     },
     "metadata": {
      "needs_background": "light"
     },
     "output_type": "display_data"
    }
   ],
   "source": [
    "import matplotlib.pyplot as plt\n",
    "\n",
    "ep = range(1, epochs+1)\n",
    "print (ep)\n",
    "plt.plot(ep, train_loss, 'bo', label='Training loss')\n",
    "plt.plot(ep, valid_loss, 'b', label='Validation loss')\n",
    "plt.title('Training and validation loss')\n",
    "plt.xlabel('Epochs')\n",
    "plt.ylabel('Loss')\n",
    "plt.legend()\n",
    "plt.show()\n",
    "# plt.savefig('plt.png')\n",
    "#print (test_preds)\n"
   ]
  },
  {
   "cell_type": "code",
   "execution_count": 11,
   "metadata": {},
   "outputs": [
    {
     "ename": "SystemExit",
     "evalue": "",
     "output_type": "error",
     "traceback": [
      "An exception has occurred, use %tb to see the full traceback.\n",
      "\u001b[0;31mSystemExit\u001b[0m\n"
     ]
    },
    {
     "name": "stderr",
     "output_type": "stream",
     "text": [
      "/home/jerry/workshop/virtualenv/alpha-mind/lib/python3.6/site-packages/IPython/core/interactiveshell.py:3275: UserWarning: To exit: use 'exit', 'quit', or Ctrl-D.\n",
      "  warn(\"To exit: use 'exit', 'quit', or Ctrl-D.\", stacklevel=1)\n"
     ]
    }
   ],
   "source": [
    "import sys\n",
    "sys.exit()\n",
    "\n",
    "#write predictions to csv\n",
    "df = pd.read_csv(\"data/test.csv\") \n",
    "for i, col in enumerate([\"toxic\", \"threat\"]):\n",
    "    df[col] = test_preds[:, i]\n",
    "df.head()\n",
    "       "
   ]
  }
 ],
 "metadata": {
  "kernelspec": {
   "display_name": "Python 3",
   "language": "python",
   "name": "python3"
  },
  "language_info": {
   "codemirror_mode": {
    "name": "ipython",
    "version": 3
   },
   "file_extension": ".py",
   "mimetype": "text/x-python",
   "name": "python",
   "nbconvert_exporter": "python",
   "pygments_lexer": "ipython3",
   "version": "3.6.7"
  },
  "latex_envs": {
   "LaTeX_envs_menu_present": true,
   "autoclose": false,
   "autocomplete": true,
   "bibliofile": "biblio.bib",
   "cite_by": "apalike",
   "current_citInitial": 1,
   "eqLabelWithNumbers": true,
   "eqNumInitial": 1,
   "hotkeys": {
    "equation": "Ctrl-E",
    "itemize": "Ctrl-I"
   },
   "labels_anchors": false,
   "latex_user_defs": false,
   "report_style_numbering": false,
   "user_envs_cfg": false
  }
 },
 "nbformat": 4,
 "nbformat_minor": 2
}