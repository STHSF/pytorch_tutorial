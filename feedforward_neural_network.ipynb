{
 "cells": [
  {
   "cell_type": "code",
   "execution_count": 1,
   "metadata": {},
   "outputs": [],
   "source": [
    "import torch\n",
    "import torch.nn as nn\n",
    "import torchvision.datasets as dsets\n",
    "import torchvision.transforms as transforms\n",
    "from torch.autograd import Variable\n",
    "import torch.utils.data as Data\n",
    "import matplotlib.pyplot as plt"
   ]
  },
  {
   "cell_type": "code",
   "execution_count": 2,
   "metadata": {},
   "outputs": [],
   "source": [
    "input_size = 784\n",
    "hidden_size = 500\n",
    "num_classes = 10\n",
    "num_epochs = 5\n",
    "batch_size = 100\n",
    "learning_rate = 0.001\n"
   ]
  },
  {
   "cell_type": "code",
   "execution_count": 3,
   "metadata": {},
   "outputs": [],
   "source": [
    "train_dataset = dsets.MNIST(root='./data', train=True, \n",
    "                           transform=transforms.ToTensor(),\n",
    "                           download=True)\n",
    "\n",
    "test_dataset = dsets.MNIST(root='./data', train=False,\n",
    "                          transform=transforms.ToTensor())\n",
    "\n"
   ]
  },
  {
   "cell_type": "code",
   "execution_count": 4,
   "metadata": {},
   "outputs": [
    {
     "name": "stderr",
     "output_type": "stream",
     "text": [
      "/home/jerry/workshop/virtualenv/alpha-mind/lib/python3.6/site-packages/torchvision/datasets/mnist.py:53: UserWarning: train_data has been renamed data\n",
      "  warnings.warn(\"train_data has been renamed data\")\n",
      "/home/jerry/workshop/virtualenv/alpha-mind/lib/python3.6/site-packages/torchvision/datasets/mnist.py:48: UserWarning: test_labels has been renamed targets\n",
      "  warnings.warn(\"test_labels has been renamed targets\")\n"
     ]
    },
    {
     "data": {
      "image/png": "[encoded data removed]",
      "text/plain": [
       "<Figure size 432x288 with 1 Axes>"
      ]
     },
     "metadata": {
      "needs_background": "light"
     },
     "output_type": "display_data"
    },
    {
     "data": {
      "image/png": "[encoded data removed]",
      "text/plain": [
       "<Figure size 432x288 with 1 Axes>"
      ]
     },
     "metadata": {
      "needs_background": "light"
     },
     "output_type": "display_data"
    },
    {
     "data": {
      "image/png": "[encoded data removed]",
      "text/plain": [
       "<Figure size 432x288 with 1 Axes>"
      ]
     },
     "metadata": {
      "needs_background": "light"
     },
     "output_type": "display_data"
    },
    {
     "data": {
      "image/png": "[encoded data removed]",
      "text/plain": [
       "<Figure size 432x288 with 1 Axes>"
      ]
     },
     "metadata": {
      "needs_background": "light"
     },
     "output_type": "display_data"
    }
   ],
   "source": [
    "for i in range(4):\n",
    "    plt.imshow(train_dataset.train_data[i].numpy(), cmap='gray')\n",
    "    plt.title('%i' % train_dataset.test_labels[i])\n",
    "\n",
    "    plt.show()"
   ]
  },
  {
   "cell_type": "code",
   "execution_count": 5,
   "metadata": {},
   "outputs": [],
   "source": [
    "train_loader = torch.utils.data.DataLoader(dataset=train_dataset, batch_size=batch_size, shuffle=True)\n",
    "\n",
    "test_loader = torch.utils.data.DataLoader(dataset=test_dataset, batch_size=batch_size, shuffle=False)"
   ]
  },
  {
   "cell_type": "code",
   "execution_count": 6,
   "metadata": {},
   "outputs": [],
   "source": [
    "class Net(nn.Module):\n",
    "    def __init__(self, input_size, hidden_size, num_classes):\n",
    "        super(Net, self).__init__()\n",
    "        self.fc1 = nn.Linear(input_size, hidden_size)\n",
    "        self.relu = nn.ReLU()\n",
    "        self.fc2 = nn.Linear(hidden_size, num_classes)\n",
    "    \n",
    "    def forward(self, x):\n",
    "        out = self.fc1(x)\n",
    "        out = self.relu(out)\n",
    "        out = self.fc2(out)\n",
    "        return out\n",
    "    "
   ]
  },
  {
   "cell_type": "code",
   "execution_count": 7,
   "metadata": {},
   "outputs": [],
   "source": [
    "net = Net(input_size, hidden_size, num_classes)"
   ]
  },
  {
   "cell_type": "code",
   "execution_count": 8,
   "metadata": {},
   "outputs": [],
   "source": [
    "criterion = nn.CrossEntropyLoss()\n",
    "optimizer = torch.optim.Adam(net.parameters(), lr=learning_rate)"
   ]
  },
  {
   "cell_type": "code",
   "execution_count": 9,
   "metadata": {},
   "outputs": [
    {
     "name": "stdout",
     "output_type": "stream",
     "text": [
      "Rpoch [1/5], Step [100/6], Loss: 0.2900\n",
      "Rpoch [1/5], Step [200/6], Loss: 0.3093\n",
      "Rpoch [1/5], Step [300/6], Loss: 0.2884\n",
      "Rpoch [1/5], Step [400/6], Loss: 0.1957\n",
      "Rpoch [1/5], Step [500/6], Loss: 0.2162\n",
      "Rpoch [1/5], Step [600/6], Loss: 0.1227\n",
      "Acc of the network: tensor(10) %\n",
      "Rpoch [2/5], Step [100/6], Loss: 0.2976\n",
      "Rpoch [2/5], Step [200/6], Loss: 0.0771\n",
      "Rpoch [2/5], Step [300/6], Loss: 0.1475\n",
      "Rpoch [2/5], Step [400/6], Loss: 0.0842\n",
      "Rpoch [2/5], Step [500/6], Loss: 0.0525\n",
      "Rpoch [2/5], Step [600/6], Loss: 0.0756\n",
      "Acc of the network: tensor(9) %\n",
      "Rpoch [3/5], Step [100/6], Loss: 0.0872\n",
      "Rpoch [3/5], Step [200/6], Loss: 0.0399\n",
      "Rpoch [3/5], Step [300/6], Loss: 0.1550\n",
      "Rpoch [3/5], Step [400/6], Loss: 0.0996\n",
      "Rpoch [3/5], Step [500/6], Loss: 0.0640\n",
      "Rpoch [3/5], Step [600/6], Loss: 0.0549\n",
      "Acc of the network: tensor(9) %\n",
      "Rpoch [4/5], Step [100/6], Loss: 0.0284\n",
      "Rpoch [4/5], Step [200/6], Loss: 0.0304\n",
      "Rpoch [4/5], Step [300/6], Loss: 0.0602\n",
      "Rpoch [4/5], Step [400/6], Loss: 0.1319\n",
      "Rpoch [4/5], Step [500/6], Loss: 0.0876\n",
      "Rpoch [4/5], Step [600/6], Loss: 0.0555\n",
      "Acc of the network: tensor(10) %\n",
      "Rpoch [5/5], Step [100/6], Loss: 0.0534\n",
      "Rpoch [5/5], Step [200/6], Loss: 0.0334\n",
      "Rpoch [5/5], Step [300/6], Loss: 0.0427\n",
      "Rpoch [5/5], Step [400/6], Loss: 0.0296\n",
      "Rpoch [5/5], Step [500/6], Loss: 0.0234\n",
      "Rpoch [5/5], Step [600/6], Loss: 0.0591\n",
      "Acc of the network: tensor(9) %\n"
     ]
    }
   ],
   "source": [
    "for epoch in range(num_epochs):\n",
    "    for i, (images, labels) in enumerate(train_loader):\n",
    "        images = Variable(images.view(-1, 28*28))\n",
    "        labels = Variable(labels)\n",
    "        \n",
    "        optimizer.zero_grad()\n",
    "        outputs = net(images)\n",
    "        \n",
    "        loss = criterion(outputs, labels)\n",
    "        loss.backward()\n",
    "        \n",
    "        optimizer.step()\n",
    "        \n",
    "        if (i+1) % 100 == 0:\n",
    "            print('Rpoch [%d/%d], Step [%d/%d], Loss: %.4f' % (epoch+1, num_epochs, i+1, len(train_loader)/batch_size, loss.data))\n",
    "    correct = 0\n",
    "    total = 0\n",
    "    for test_images, test_labels in test_loader:\n",
    "        test_images = Variable(images.view(-1, 28*28))\n",
    "        outputs  = net(images)\n",
    "        _, predicted = torch.max(outputs.data, 1)\n",
    "        total += test_labels.size(0)\n",
    "        correct += (predicted == test_labels).sum()\n",
    "    print('Acc of the network: %s %%'% (100 * correct /total))"
   ]
  },
  {
   "cell_type": "code",
   "execution_count": 10,
   "metadata": {},
   "outputs": [
    {
     "name": "stdout",
     "output_type": "stream",
     "text": [
      "prediction numbe [7 6 0 9 3 2 7 7 6 7 6 1 9 1 3 2 8 4 5 4]\n",
      "real number [8 9 0 1 2 3 4 5 6 7 8 0 1 2 3 4 7 8 9 7]\n"
     ]
    }
   ],
   "source": [
    "test_output = net(test_images[:20])\n",
    "pred_y = torch.max(test_output, 1)[1].data.numpy().squeeze()\n",
    "print('prediction numbe', pred_y)\n",
    "print('real number', test_labels[:20].numpy())"
   ]
  },
  {
   "cell_type": "code",
   "execution_count": null,
   "metadata": {},
   "outputs": [],
   "source": []
  }
 ],
 "metadata": {
  "kernelspec": {
   "display_name": "Python 3",
   "language": "python",
   "name": "python3"
  },
  "language_info": {
   "codemirror_mode": {
    "name": "ipython",
    "version": 3
   },
   "file_extension": ".py",
   "mimetype": "text/x-python",
   "name": "python",
   "nbconvert_exporter": "python",
   "pygments_lexer": "ipython3",
   "version": "3.6.7"
  },
  "latex_envs": {
   "LaTeX_envs_menu_present": true,
   "autoclose": false,
   "autocomplete": true,
   "bibliofile": "biblio.bib",
   "cite_by": "apalike",
   "current_citInitial": 1,
   "eqLabelWithNumbers": true,
   "eqNumInitial": 1,
   "hotkeys": {
    "equation": "Ctrl-E",
    "itemize": "Ctrl-I"
   },
   "labels_anchors": false,
   "latex_user_defs": false,
   "report_style_numbering": false,
   "user_envs_cfg": false
  }
 },
 "nbformat": 4,
 "nbformat_minor": 2
}
